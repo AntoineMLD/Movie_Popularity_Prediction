{
 "cells": [
  {
   "cell_type": "code",
   "execution_count": 1,
   "metadata": {},
   "outputs": [],
   "source": [
    "import pandas as pd\n"
   ]
  },
  {
   "cell_type": "code",
   "execution_count": 3,
   "metadata": {},
   "outputs": [],
   "source": [
    "df = pd.read_csv('scrapImdb.csv')"
   ]
  },
  {
   "cell_type": "code",
   "execution_count": 4,
   "metadata": {},
   "outputs": [],
   "source": [
    "df_eda = df.drop_duplicates(subset=['title'],keep='first')"
   ]
  },
  {
   "cell_type": "code",
   "execution_count": 5,
   "metadata": {},
   "outputs": [
    {
     "data": {
      "text/plain": [
       "Index(['annee', 'budget', 'casting_principal', 'director', 'duree', 'genre',\n",
       "       'image_urls', 'langue', 'nbre_vote', 'nombre_vote', 'pays', 'pegi',\n",
       "       'popularite_score', 'release_date_france', 'release_link',\n",
       "       'release_link_full', 'scenaristes', 'score', 'title', 'url'],\n",
       "      dtype='object')"
      ]
     },
     "execution_count": 5,
     "metadata": {},
     "output_type": "execute_result"
    }
   ],
   "source": [
    "df_eda.columns"
   ]
  },
  {
   "cell_type": "code",
   "execution_count": 6,
   "metadata": {},
   "outputs": [],
   "source": [
    "df_eda= df_eda.drop(['image_urls', 'release_link', 'release_link_full','url'], axis=1)"
   ]
  },
  {
   "cell_type": "code",
   "execution_count": 8,
   "metadata": {},
   "outputs": [
    {
     "data": {
      "text/html": [
       "<div>\n",
       "<style scoped>\n",
       "    .dataframe tbody tr th:only-of-type {\n",
       "        vertical-align: middle;\n",
       "    }\n",
       "\n",
       "    .dataframe tbody tr th {\n",
       "        vertical-align: top;\n",
       "    }\n",
       "\n",
       "    .dataframe thead th {\n",
       "        text-align: right;\n",
       "    }\n",
       "</style>\n",
       "<table border=\"1\" class=\"dataframe\">\n",
       "  <thead>\n",
       "    <tr style=\"text-align: right;\">\n",
       "      <th></th>\n",
       "      <th>annee</th>\n",
       "      <th>budget</th>\n",
       "      <th>casting_principal</th>\n",
       "      <th>director</th>\n",
       "      <th>duree</th>\n",
       "      <th>genre</th>\n",
       "      <th>langue</th>\n",
       "      <th>nbre_vote</th>\n",
       "      <th>nombre_vote</th>\n",
       "      <th>pays</th>\n",
       "      <th>pegi</th>\n",
       "      <th>popularite_score</th>\n",
       "      <th>release_date_france</th>\n",
       "      <th>scenaristes</th>\n",
       "      <th>score</th>\n",
       "      <th>title</th>\n",
       "    </tr>\n",
       "  </thead>\n",
       "  <tbody>\n",
       "    <tr>\n",
       "      <th>0</th>\n",
       "      <td>1993</td>\n",
       "      <td>$22,000,000 (estimated)</td>\n",
       "      <td>Steven Spielberg,Thomas Keneally,Steven Zaillian</td>\n",
       "      <td>Steven Spielberg</td>\n",
       "      <td>3h 15m</td>\n",
       "      <td>Biography,Drama,History</td>\n",
       "      <td>English,Hebrew,German,Polish,Latin</td>\n",
       "      <td>NaN</td>\n",
       "      <td>1.4M</td>\n",
       "      <td>United States</td>\n",
       "      <td>R</td>\n",
       "      <td>182</td>\n",
       "      <td>March 2, 1994</td>\n",
       "      <td>Steven Spielberg</td>\n",
       "      <td>9.0</td>\n",
       "      <td>Schindler's List</td>\n",
       "    </tr>\n",
       "    <tr>\n",
       "      <th>1</th>\n",
       "      <td>1932</td>\n",
       "      <td>No budget</td>\n",
       "      <td>Jindrich Honzl,George Voskovec,Jan Werich</td>\n",
       "      <td>Jindrich Honzl</td>\n",
       "      <td>0</td>\n",
       "      <td>Comedy</td>\n",
       "      <td>No Language</td>\n",
       "      <td>NaN</td>\n",
       "      <td>102</td>\n",
       "      <td>Czechoslovakia</td>\n",
       "      <td>1h 34m</td>\n",
       "      <td>No Popularity Score</td>\n",
       "      <td>NaN</td>\n",
       "      <td>Jindrich Honzl</td>\n",
       "      <td>7.3</td>\n",
       "      <td>Powder and Petrol</td>\n",
       "    </tr>\n",
       "    <tr>\n",
       "      <th>2</th>\n",
       "      <td>1920</td>\n",
       "      <td>$18,000 (estimated)</td>\n",
       "      <td>Robert Wiene,Carl Mayer,Hans Janowitz</td>\n",
       "      <td>Robert Wiene</td>\n",
       "      <td>1h 7m</td>\n",
       "      <td>Horror,Mystery,Thriller</td>\n",
       "      <td>German</td>\n",
       "      <td>NaN</td>\n",
       "      <td>70K</td>\n",
       "      <td>Germany</td>\n",
       "      <td>Not Rated</td>\n",
       "      <td>No Popularity Score</td>\n",
       "      <td>November 14, 1921</td>\n",
       "      <td>Robert Wiene</td>\n",
       "      <td>8.0</td>\n",
       "      <td>The Cabinet of Dr. Caligari</td>\n",
       "    </tr>\n",
       "    <tr>\n",
       "      <th>3</th>\n",
       "      <td>1988</td>\n",
       "      <td>$28,000,000 (estimated)</td>\n",
       "      <td>John McTiernan,Roderick Thorp,Jeb Stuart</td>\n",
       "      <td>John McTiernan</td>\n",
       "      <td>2h 12m</td>\n",
       "      <td>Action,Thriller</td>\n",
       "      <td>English,German,Italian,Japanese</td>\n",
       "      <td>NaN</td>\n",
       "      <td>942K</td>\n",
       "      <td>United States</td>\n",
       "      <td>R</td>\n",
       "      <td>730</td>\n",
       "      <td>September 21, 1988</td>\n",
       "      <td>John McTiernan</td>\n",
       "      <td>8.2</td>\n",
       "      <td>Die Hard</td>\n",
       "    </tr>\n",
       "    <tr>\n",
       "      <th>4</th>\n",
       "      <td>1931</td>\n",
       "      <td>$355,000 (estimated)</td>\n",
       "      <td>Tod Browning,Karl Freund,Writers</td>\n",
       "      <td>Tod Browning</td>\n",
       "      <td>1h 15m</td>\n",
       "      <td>Drama,Fantasy,Horror</td>\n",
       "      <td>English,Hungarian,Latin</td>\n",
       "      <td>NaN</td>\n",
       "      <td>58K</td>\n",
       "      <td>United States</td>\n",
       "      <td>Passed</td>\n",
       "      <td>No Popularity Score</td>\n",
       "      <td>January 22, 1932</td>\n",
       "      <td>Tod Browning</td>\n",
       "      <td>7.4</td>\n",
       "      <td>Dracula</td>\n",
       "    </tr>\n",
       "  </tbody>\n",
       "</table>\n",
       "</div>"
      ],
      "text/plain": [
       "  annee                   budget  \\\n",
       "0  1993  $22,000,000 (estimated)   \n",
       "1  1932                No budget   \n",
       "2  1920      $18,000 (estimated)   \n",
       "3  1988  $28,000,000 (estimated)   \n",
       "4  1931     $355,000 (estimated)   \n",
       "\n",
       "                                  casting_principal          director   duree  \\\n",
       "0  Steven Spielberg,Thomas Keneally,Steven Zaillian  Steven Spielberg  3h 15m   \n",
       "1         Jindrich Honzl,George Voskovec,Jan Werich    Jindrich Honzl       0   \n",
       "2             Robert Wiene,Carl Mayer,Hans Janowitz      Robert Wiene   1h 7m   \n",
       "3          John McTiernan,Roderick Thorp,Jeb Stuart    John McTiernan  2h 12m   \n",
       "4                  Tod Browning,Karl Freund,Writers      Tod Browning  1h 15m   \n",
       "\n",
       "                     genre                              langue  nbre_vote  \\\n",
       "0  Biography,Drama,History  English,Hebrew,German,Polish,Latin        NaN   \n",
       "1                   Comedy                         No Language        NaN   \n",
       "2  Horror,Mystery,Thriller                              German        NaN   \n",
       "3          Action,Thriller     English,German,Italian,Japanese        NaN   \n",
       "4     Drama,Fantasy,Horror             English,Hungarian,Latin        NaN   \n",
       "\n",
       "  nombre_vote            pays       pegi     popularite_score  \\\n",
       "0        1.4M   United States          R                  182   \n",
       "1         102  Czechoslovakia     1h 34m  No Popularity Score   \n",
       "2         70K         Germany  Not Rated  No Popularity Score   \n",
       "3        942K   United States          R                  730   \n",
       "4         58K   United States     Passed  No Popularity Score   \n",
       "\n",
       "  release_date_france       scenaristes  score                        title  \n",
       "0       March 2, 1994  Steven Spielberg    9.0             Schindler's List  \n",
       "1                 NaN    Jindrich Honzl    7.3            Powder and Petrol  \n",
       "2   November 14, 1921      Robert Wiene    8.0  The Cabinet of Dr. Caligari  \n",
       "3  September 21, 1988    John McTiernan    8.2                     Die Hard  \n",
       "4    January 22, 1932      Tod Browning    7.4                      Dracula  "
      ]
     },
     "execution_count": 8,
     "metadata": {},
     "output_type": "execute_result"
    }
   ],
   "source": [
    "df_eda.head()"
   ]
  },
  {
   "cell_type": "code",
   "execution_count": null,
   "metadata": {},
   "outputs": [],
   "source": [
    "df_eda.to_csv('dataEda.csv', index=False)"
   ]
  }
 ],
 "metadata": {
  "kernelspec": {
   "display_name": "Python 3",
   "language": "python",
   "name": "python3"
  },
  "language_info": {
   "codemirror_mode": {
    "name": "ipython",
    "version": 3
   },
   "file_extension": ".py",
   "mimetype": "text/x-python",
   "name": "python",
   "nbconvert_exporter": "python",
   "pygments_lexer": "ipython3",
   "version": "3.10.12"
  }
 },
 "nbformat": 4,
 "nbformat_minor": 2
}
