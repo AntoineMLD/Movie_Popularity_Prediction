{
 "cells": [
  {
   "cell_type": "code",
   "execution_count": 2,
   "metadata": {},
   "outputs": [
    {
     "name": "stderr",
     "output_type": "stream",
     "text": [
      "/tmp/ipykernel_11021/652598571.py:10: DeprecationWarning: DataFrameGroupBy.apply operated on the grouping columns. This behavior is deprecated, and in a future version of pandas the grouping columns will be excluded from the operation. Either pass `include_groups=False` to exclude the groupings or explicitly select the grouping columns after groupby to silence this warning.\n",
      "  df_clean = df.groupby('titre').apply(lambda x: x).reset_index(drop=True)\n"
     ]
    }
   ],
   "source": [
    "import pandas as pd\n",
    "import numpy as np\n",
    "\n",
    "# Charger les données\n",
    "df = pd.read_csv('/home/tenshi/projets/Movie_Popularity_Prediction/scrapper/jptest.csv')\n",
    "\n",
    "\n",
    "\n",
    "# Grouper par titre et remplir les NaN en utilisant la première valeur non-NaN disponible\n",
    "df_clean = df.groupby('titre').apply(lambda x: x).reset_index(drop=True)\n",
    "\n",
    "# Sauvegarder le nouveau CSV\n",
    "df_clean.to_csv('/home/tenshi/projets/Movie_Popularity_Prediction/scrapper/jptestpuzzle.csv', index=False)\n"
   ]
  }
 ],
 "metadata": {
  "kernelspec": {
   "display_name": "venv",
   "language": "python",
   "name": "python3"
  },
  "language_info": {
   "codemirror_mode": {
    "name": "ipython",
    "version": 3
   },
   "file_extension": ".py",
   "mimetype": "text/x-python",
   "name": "python",
   "nbconvert_exporter": "python",
   "pygments_lexer": "ipython3",
   "version": "3.10.12"
  }
 },
 "nbformat": 4,
 "nbformat_minor": 2
}
