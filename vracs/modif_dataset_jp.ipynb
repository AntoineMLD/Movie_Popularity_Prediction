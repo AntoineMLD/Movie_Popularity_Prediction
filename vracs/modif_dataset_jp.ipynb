{
 "cells": [
  {
   "cell_type": "code",
   "execution_count": 1,
   "metadata": {},
   "outputs": [],
   "source": [
    "import pandas as pd\n",
    "import re\n",
    "from datetime import datetime"
   ]
  },
  {
   "cell_type": "code",
   "execution_count": 2,
   "metadata": {},
   "outputs": [],
   "source": [
    "df = pd.read_csv('/home/tenshi/projets/Movie_Popularity_Prediction/ml/input_datasets/movies_csv_uncleaned.csv')"
   ]
  },
  {
   "cell_type": "code",
   "execution_count": 3,
   "metadata": {},
   "outputs": [
    {
     "data": {
      "text/plain": [
       "Index(['Unnamed: 0', 'titre', 'acteurs', 'budget', 'compositeur', 'date',\n",
       "       'date_US', 'duree', 'entrees_premiere_semaine', 'franchise', 'genre',\n",
       "       'pays', 'pegi_FR', 'pegi_US', 'producteur', 'realisateur',\n",
       "       'recette_premier_wk_US', 'remake', 'salles_premiere_semaine', 'studio'],\n",
       "      dtype='object')"
      ]
     },
     "execution_count": 3,
     "metadata": {},
     "output_type": "execute_result"
    }
   ],
   "source": [
    "df.columns"
   ]
  },
  {
   "cell_type": "code",
   "execution_count": 4,
   "metadata": {},
   "outputs": [],
   "source": [
    "df.drop(columns=['Unnamed: 0', 'remake'], inplace=True)"
   ]
  },
  {
   "cell_type": "code",
   "execution_count": 5,
   "metadata": {},
   "outputs": [
    {
     "data": {
      "text/plain": [
       "Index(['titre', 'acteurs', 'budget', 'compositeur', 'date', 'date_US', 'duree',\n",
       "       'entrees_premiere_semaine', 'franchise', 'genre', 'pays', 'pegi_FR',\n",
       "       'pegi_US', 'producteur', 'realisateur', 'recette_premier_wk_US',\n",
       "       'salles_premiere_semaine', 'studio'],\n",
       "      dtype='object')"
      ]
     },
     "execution_count": 5,
     "metadata": {},
     "output_type": "execute_result"
    }
   ],
   "source": [
    "df.columns"
   ]
  },
  {
   "cell_type": "code",
   "execution_count": 6,
   "metadata": {},
   "outputs": [],
   "source": [
    "df.rename(columns={'date':'date_sortie_fr','date_US':'date_sortie_us','entrees_premiere_semaine':'entrees_fr','recette_premier_wk_US':'entrees_usa', 'pegi_FR' : 'pegi_fr', 'pegi_US': 'pegi_us', 'genre' : 'genres', 'salles_premiere_semaine' : 'salles_fr'},inplace=True)"
   ]
  },
  {
   "cell_type": "code",
   "execution_count": 7,
   "metadata": {},
   "outputs": [],
   "source": [
    "df.to_csv('/home/tenshi/projets/Movie_Popularity_Prediction/ml/input_datasets/movies_csv_cleaned.csv', index=False)"
   ]
  },
  {
   "cell_type": "code",
   "execution_count": 8,
   "metadata": {},
   "outputs": [
    {
     "data": {
      "text/plain": [
       "0       Franchise\n",
       "1             NaN\n",
       "2       Franchise\n",
       "3             NaN\n",
       "4             NaN\n",
       "          ...    \n",
       "4544          NaN\n",
       "4545          NaN\n",
       "4546          NaN\n",
       "4547          NaN\n",
       "4548    Franchise\n",
       "Name: franchise, Length: 4549, dtype: object"
      ]
     },
     "execution_count": 8,
     "metadata": {},
     "output_type": "execute_result"
    }
   ],
   "source": [
    "df['franchise']"
   ]
  },
  {
   "cell_type": "code",
   "execution_count": null,
   "metadata": {},
   "outputs": [],
   "source": []
  }
 ],
 "metadata": {
  "kernelspec": {
   "display_name": "venv",
   "language": "python",
   "name": "python3"
  },
  "language_info": {
   "codemirror_mode": {
    "name": "ipython",
    "version": 3
   },
   "file_extension": ".py",
   "mimetype": "text/x-python",
   "name": "python",
   "nbconvert_exporter": "python",
   "pygments_lexer": "ipython3",
   "version": "3.10.12"
  }
 },
 "nbformat": 4,
 "nbformat_minor": 2
}
