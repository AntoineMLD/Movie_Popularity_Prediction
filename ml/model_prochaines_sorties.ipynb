{
 "cells": [
  {
   "cell_type": "code",
   "execution_count": 42,
   "metadata": {},
   "outputs": [],
   "source": [
    "import numpy as np\n",
    "import pandas as pd\n",
    "import pickle\n",
    "# data = pd.read_csv(\"input_datasets/modif_csv_cleaned.csv\")\n",
    "\n",
    "data = pd.read_csv(\"input_datasets/next_movies.csv\")\n",
    "\n",
    "# display(data)\n",
    "\n",
    "\n"
   ]
  },
  {
   "cell_type": "code",
   "execution_count": 43,
   "metadata": {},
   "outputs": [],
   "source": [
    "with open(\"models/model_cb.pkl\", \"rb\") as f:\n",
    "    model = pickle.load(f)\n",
    "f.close()"
   ]
  },
  {
   "cell_type": "code",
   "execution_count": 44,
   "metadata": {},
   "outputs": [
    {
     "name": "stderr",
     "output_type": "stream",
     "text": [
      "/Users/cyriljulliard/simplon/Movie_Popularity_Prediction/env/lib/python3.10/site-packages/feature_engine/encoding/base_encoder.py:260: UserWarning: During the encoding, NaN values were introduced in the feature(s) franchise, genres, pegi_fr, studio, is_compositeur.\n",
      "  warnings.warn(\n",
      "/Users/cyriljulliard/simplon/Movie_Popularity_Prediction/env/lib/python3.10/site-packages/feature_engine/encoding/base_encoder.py:260: UserWarning: During the encoding, NaN values were introduced in the feature(s) franchise, genres, pegi_fr, studio, is_compositeur.\n",
      "  warnings.warn(\n",
      "/Users/cyriljulliard/simplon/Movie_Popularity_Prediction/env/lib/python3.10/site-packages/feature_engine/encoding/base_encoder.py:260: UserWarning: During the encoding, NaN values were introduced in the feature(s) franchise, genres, pegi_fr, is_compositeur.\n",
      "  warnings.warn(\n",
      "/Users/cyriljulliard/simplon/Movie_Popularity_Prediction/env/lib/python3.10/site-packages/feature_engine/encoding/base_encoder.py:260: UserWarning: During the encoding, NaN values were introduced in the feature(s) franchise, pegi_fr, pegi_usa, studio, is_compositeur, origine.\n",
      "  warnings.warn(\n",
      "/Users/cyriljulliard/simplon/Movie_Popularity_Prediction/env/lib/python3.10/site-packages/feature_engine/encoding/base_encoder.py:260: UserWarning: During the encoding, NaN values were introduced in the feature(s) franchise, genres, pegi_fr, pegi_usa, studio, is_compositeur.\n",
      "  warnings.warn(\n",
      "/Users/cyriljulliard/simplon/Movie_Popularity_Prediction/env/lib/python3.10/site-packages/feature_engine/encoding/base_encoder.py:260: UserWarning: During the encoding, NaN values were introduced in the feature(s) franchise, genres, pegi_fr, is_compositeur, origine.\n",
      "  warnings.warn(\n",
      "/Users/cyriljulliard/simplon/Movie_Popularity_Prediction/env/lib/python3.10/site-packages/feature_engine/encoding/base_encoder.py:260: UserWarning: During the encoding, NaN values were introduced in the feature(s) franchise, pegi_fr, is_compositeur, origine.\n",
      "  warnings.warn(\n",
      "/Users/cyriljulliard/simplon/Movie_Popularity_Prediction/env/lib/python3.10/site-packages/feature_engine/encoding/base_encoder.py:260: UserWarning: During the encoding, NaN values were introduced in the feature(s) franchise, pegi_fr, studio, is_compositeur.\n",
      "  warnings.warn(\n",
      "/Users/cyriljulliard/simplon/Movie_Popularity_Prediction/env/lib/python3.10/site-packages/feature_engine/encoding/base_encoder.py:260: UserWarning: During the encoding, NaN values were introduced in the feature(s) franchise, pegi_fr, is_compositeur.\n",
      "  warnings.warn(\n",
      "/Users/cyriljulliard/simplon/Movie_Popularity_Prediction/env/lib/python3.10/site-packages/feature_engine/encoding/base_encoder.py:260: UserWarning: During the encoding, NaN values were introduced in the feature(s) franchise, pegi_fr, studio, is_compositeur, origine.\n",
      "  warnings.warn(\n",
      "/Users/cyriljulliard/simplon/Movie_Popularity_Prediction/env/lib/python3.10/site-packages/feature_engine/encoding/base_encoder.py:260: UserWarning: During the encoding, NaN values were introduced in the feature(s) franchise, pegi_fr, studio, is_compositeur, origine.\n",
      "  warnings.warn(\n",
      "/Users/cyriljulliard/simplon/Movie_Popularity_Prediction/env/lib/python3.10/site-packages/feature_engine/encoding/base_encoder.py:260: UserWarning: During the encoding, NaN values were introduced in the feature(s) franchise, pegi_fr, studio, is_compositeur.\n",
      "  warnings.warn(\n",
      "/Users/cyriljulliard/simplon/Movie_Popularity_Prediction/env/lib/python3.10/site-packages/feature_engine/encoding/base_encoder.py:260: UserWarning: During the encoding, NaN values were introduced in the feature(s) franchise, genres, pegi_fr, is_compositeur.\n",
      "  warnings.warn(\n",
      "/Users/cyriljulliard/simplon/Movie_Popularity_Prediction/env/lib/python3.10/site-packages/feature_engine/encoding/base_encoder.py:260: UserWarning: During the encoding, NaN values were introduced in the feature(s) franchise, pegi_fr, studio, is_compositeur, origine.\n",
      "  warnings.warn(\n",
      "/Users/cyriljulliard/simplon/Movie_Popularity_Prediction/env/lib/python3.10/site-packages/feature_engine/encoding/base_encoder.py:260: UserWarning: During the encoding, NaN values were introduced in the feature(s) franchise, pegi_fr, studio, is_compositeur.\n",
      "  warnings.warn(\n",
      "/Users/cyriljulliard/simplon/Movie_Popularity_Prediction/env/lib/python3.10/site-packages/feature_engine/encoding/base_encoder.py:260: UserWarning: During the encoding, NaN values were introduced in the feature(s) franchise, genres, pegi_fr, studio, is_compositeur, origine.\n",
      "  warnings.warn(\n",
      "/Users/cyriljulliard/simplon/Movie_Popularity_Prediction/env/lib/python3.10/site-packages/feature_engine/encoding/base_encoder.py:260: UserWarning: During the encoding, NaN values were introduced in the feature(s) franchise, pegi_fr, studio, is_compositeur.\n",
      "  warnings.warn(\n",
      "/Users/cyriljulliard/simplon/Movie_Popularity_Prediction/env/lib/python3.10/site-packages/feature_engine/encoding/base_encoder.py:260: UserWarning: During the encoding, NaN values were introduced in the feature(s) franchise, pegi_fr, studio, is_compositeur.\n",
      "  warnings.warn(\n",
      "/Users/cyriljulliard/simplon/Movie_Popularity_Prediction/env/lib/python3.10/site-packages/feature_engine/encoding/base_encoder.py:260: UserWarning: During the encoding, NaN values were introduced in the feature(s) franchise, pegi_fr, studio, is_compositeur, origine.\n",
      "  warnings.warn(\n"
     ]
    }
   ],
   "source": [
    "# Créer une liste pour stocker les prédictions\n",
    "predictions = []\n",
    "\n",
    "\n",
    "# Itérer sur chaque ligne du DataFrame\n",
    "for index, row in data.iterrows():\n",
    "    # Créer un DataFrame pour la prédiction\n",
    "    inputs = pd.DataFrame({\n",
    "        'budget': [row['budget']],\n",
    "        'duree': [row['duree']],\n",
    "        'franchise': [row['franchise']],\n",
    "        'genres': [row['genres']],\n",
    "        'pegi_fr': [row['pegi_fr']],\n",
    "        'pegi_usa': [row['pegi_usa']],\n",
    "        'entrees_usa': [row['entrees_usa']],\n",
    "        'salles_fr': [row['salles_fr']],\n",
    "        'studio': [row['studio']],\n",
    "        'is_compositeur': [row['is_compositeur']],\n",
    "        'annee': [row['annee']],\n",
    "        'origine': [row['origine']]\n",
    "    })\n",
    "\n",
    "    # Prédire le nombre d'entrées pour cette ligne\n",
    "    predicted_entries = model.predict(inputs)\n",
    "\n",
    "    # Ajouter la prédiction à la liste des prédictions\n",
    "    predictions.append(predicted_entries[0])\n",
    "\n",
    "# Ajouter la colonne des prédictions au DataFrame\n",
    "data['entrees_fr'] = predictions\n",
    "\n",
    "# Trier le DataFrame par ordre croissant de la colonne des prédictions\n",
    "data_sorted = data.sort_values(by='entrees_fr', ascending=False)\n",
    "\n",
    "# Enregistrer le DataFrame trié dans un nouveau fichier CSV\n",
    "data_sorted.to_csv(\"input_datasets/next_movies_with_sorted_predictions.csv\", index=False)"
   ]
  }
 ],
 "metadata": {
  "kernelspec": {
   "display_name": "env",
   "language": "python",
   "name": "python3"
  },
  "language_info": {
   "codemirror_mode": {
    "name": "ipython",
    "version": 3
   },
   "file_extension": ".py",
   "mimetype": "text/x-python",
   "name": "python",
   "nbconvert_exporter": "python",
   "pygments_lexer": "ipython3",
   "version": "3.10.13"
  }
 },
 "nbformat": 4,
 "nbformat_minor": 2
}
