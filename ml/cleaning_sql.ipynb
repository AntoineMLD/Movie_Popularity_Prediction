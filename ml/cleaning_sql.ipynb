{
 "cells": [
  {
   "cell_type": "code",
   "execution_count": 6,
   "metadata": {},
   "outputs": [],
   "source": [
    "import pandas as pd\n",
    "import pickle\n",
    "import mysql.connector\n"
   ]
  },
  {
   "cell_type": "code",
   "execution_count": 7,
   "metadata": {},
   "outputs": [
    {
     "name": "stderr",
     "output_type": "stream",
     "text": [
      "/var/folders/2d/rl2wdlyn7t93k68_f2b6tmzw0000gn/T/ipykernel_2027/3148555920.py:19: UserWarning: pandas only supports SQLAlchemy connectable (engine/connection) or database string URI or sqlite3 DBAPI2 connection. Other DBAPI2 objects are not tested. Please consider using SQLAlchemy.\n",
      "  df = pd.read_sql(sql_query, conn)\n"
     ]
    }
   ],
   "source": [
    "\n",
    "# Informations de connexion à la base de données\n",
    "host = \"casq.mysql.database.azure.com\"\n",
    "user = \"tenshi\"\n",
    "password = \"Simplon59\"\n",
    "database = \"cinema_db\"\n",
    "\n",
    "# Connexion à la base de données\n",
    "conn = mysql.connector.connect(\n",
    "    host=host,\n",
    "    user=user,\n",
    "    password=password,\n",
    "    database=database\n",
    ")\n",
    "\n",
    "# Requête SQL pour extraire les données\n",
    "sql_query = \"SELECT * FROM films;\"\n",
    "\n",
    "# Lecture des données dans un DataFrame pandas\n",
    "df = pd.read_sql(sql_query, conn)\n",
    "\n",
    "# Fermeture de la connexion à la base de données\n",
    "conn.close()\n",
    "\n",
    "# Enregistrement des données dans un fichier CSV\n",
    "df.to_csv(\"donnees.csv\", index=False)\n"
   ]
  }
 ],
 "metadata": {
  "kernelspec": {
   "display_name": "env",
   "language": "python",
   "name": "python3"
  },
  "language_info": {
   "codemirror_mode": {
    "name": "ipython",
    "version": 3
   },
   "file_extension": ".py",
   "mimetype": "text/x-python",
   "name": "python",
   "nbconvert_exporter": "python",
   "pygments_lexer": "ipython3",
   "version": "3.10.13"
  }
 },
 "nbformat": 4,
 "nbformat_minor": 2
}
