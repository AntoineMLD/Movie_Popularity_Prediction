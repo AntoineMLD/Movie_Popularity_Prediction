{
 "cells": [
  {
   "cell_type": "code",
   "execution_count": 1,
   "metadata": {},
   "outputs": [],
   "source": [
    "import numpy as np\n",
    "import pandas as pd\n",
    "import pickle\n",
    "\n",
    "from sklearn.compose import ColumnTransformer\n",
    "from sklearn.linear_model import Lasso, LinearRegression\n",
    "from sklearn.metrics import mean_absolute_error, mean_squared_error, r2_score\n",
    "from sklearn.model_selection import train_test_split\n",
    "from sklearn.pipeline import make_pipeline, Pipeline\n",
    "from sklearn.preprocessing import OrdinalEncoder, OneHotEncoder, StandardScaler\n",
    "\n",
    "from feature_engine.encoding import CountFrequencyEncoder\n",
    "from feature_engine.selection import DropFeatures\n",
    "\n",
    "from catboost import CatBoostRegressor"
   ]
  },
  {
   "cell_type": "markdown",
   "metadata": {},
   "source": [
    "# Prédictions avec le modèle catb"
   ]
  },
  {
   "cell_type": "code",
   "execution_count": 2,
   "metadata": {},
   "outputs": [],
   "source": [
    "with open(\"../models/model_cb.pkl\", \"rb\") as f:\n",
    "    model = pickle.load(f)\n",
    "f.close()"
   ]
  },
  {
   "cell_type": "markdown",
   "metadata": {},
   "source": [
    "## Prédictions sur d'anciennes sorties"
   ]
  },
  {
   "cell_type": "markdown",
   "metadata": {},
   "source": [
    "### Intouchables"
   ]
  },
  {
   "cell_type": "code",
   "execution_count": 10,
   "metadata": {},
   "outputs": [
    {
     "name": "stdout",
     "output_type": "stream",
     "text": [
      "Prédiction du nombre d'entrées pour la première semaine : 427745.01087895344\n",
      "Nombre d'entrées réelles : 2 126 545\n"
     ]
    }
   ],
   "source": [
    "inputs = pd.DataFrame({\n",
    "    'budget': [9611412],\n",
    "    'franchise': ['0'],\n",
    "    'genre': ['Comédie'],\n",
    "    'remake': ['0'],\n",
    "    'studio': ['Gaumont'],\n",
    "    'is_compositeur': ['0'],\n",
    "    'annee': ['2011'],\n",
    "    'origine': ['France']\n",
    "})\n",
    "\n",
    "result = model.predict(inputs)\n",
    "\n",
    "print(\"Prédiction du nombre d'entrées pour la première semaine :\", result[0])\n",
    "print(\"Nombre d'entrées réelles :\", \"2 126 545\")\n",
    "\n",
    "pred_test = model.predict(X_test)\n",
    "\n",
    "score = pipe_cb.score(X_test, y_test)\n",
    "r2 = r2_score(y_test, pred_test)\n",
    "mse = mean_squared_error(y_test, pred_test)\n",
    "rmse = np.sqrt(mse)\n",
    "mae = mean_absolute_error(y_test, pred_test)\n",
    "\n",
    "print(\"Score :\", score)\n",
    "print(\"Score R2 :\", r2)\n",
    "print(\"Score MSE :\", mse)\n",
    "print(\"Score RMSE\", rmse)\n",
    "print(\"Score MAE :\", mae)"
   ]
  },
  {
   "cell_type": "markdown",
   "metadata": {},
   "source": [
    "### Iron Man 3"
   ]
  },
  {
   "cell_type": "code",
   "execution_count": 9,
   "metadata": {},
   "outputs": [
    {
     "name": "stdout",
     "output_type": "stream",
     "text": [
      "Prédiction du nombre d'entrées pour la première semaine : 1321309.1952236528\n",
      "Nombre d'entrées réelles : 2 064 740\n"
     ]
    }
   ],
   "source": [
    "inputs = pd.DataFrame({\n",
    "    'budget': [200000000],\n",
    "    'franchise': ['1'],\n",
    "    'genre': ['Comicbook'],\n",
    "    'remake': ['0'],\n",
    "    'studio': ['Walt Disney Pictures'],\n",
    "    'is_compositeur': ['0'],\n",
    "    'annee': ['2013'],\n",
    "    'origine': ['Etats-Unis']\n",
    "})\n",
    "\n",
    "result = model.predict(inputs)\n",
    "\n",
    "print(\"Prédiction du nombre d'entrées pour la première semaine :\", result[0])\n",
    "print(\"Nombre d'entrées réelles :\", \"2 064 740\")"
   ]
  },
  {
   "cell_type": "markdown",
   "metadata": {},
   "source": [
    "### Dune : Deuxième Partie"
   ]
  },
  {
   "cell_type": "code",
   "execution_count": 8,
   "metadata": {},
   "outputs": [
    {
     "name": "stdout",
     "output_type": "stream",
     "text": [
      "Prédiction du nombre d'entrées pour la première semaine : 1105943.8533700795\n",
      "Nombre d'entrées réelles : 1 383 999\n"
     ]
    }
   ],
   "source": [
    "inputs = pd.DataFrame({\n",
    "    'budget': [190000000],\n",
    "    'franchise': ['0'],\n",
    "    'genre': ['Science Fiction'],\n",
    "    'remake': ['0'],\n",
    "    'studio': ['Warner Bros.'],\n",
    "    'is_compositeur': ['1'],\n",
    "    'annee': ['2024'],\n",
    "    'origine': ['Etats-Unis'],\n",
    "})\n",
    "\n",
    "result = model.predict(inputs)\n",
    "\n",
    "print(\"Prédiction du nombre d'entrées pour la première semaine :\", result[0])\n",
    "print(\"Nombre d'entrées réelles :\", \"1 383 999\")"
   ]
  },
  {
   "cell_type": "markdown",
   "metadata": {},
   "source": [
    "## Prédictions sur les nouvelles sorties"
   ]
  },
  {
   "cell_type": "markdown",
   "metadata": {},
   "source": [
    "### Nous, les Leroy"
   ]
  },
  {
   "cell_type": "code",
   "execution_count": 6,
   "metadata": {},
   "outputs": [
    {
     "name": "stdout",
     "output_type": "stream",
     "text": [
      "Prédiction du nombre d'entrées pour la première semaine : 148272.87354094576\n"
     ]
    }
   ],
   "source": [
    "inputs = pd.DataFrame({\n",
    "    'budget': [4600000],\n",
    "    'franchise': ['0'],\n",
    "    'genre': ['Comédie'],\n",
    "    'remake': ['0'],\n",
    "    'studio': ['Apollo Films'],\n",
    "    'is_compositeur': ['0'],\n",
    "    'annee': ['2024'],\n",
    "    'origine': ['France'],\n",
    "})\n",
    "\n",
    "result = model.predict(inputs)\n",
    "\n",
    "print(\"Prédiction du nombre d'entrées pour la première semaine :\", result[0])"
   ]
  },
  {
   "cell_type": "markdown",
   "metadata": {},
   "source": [
    "### S.O.S. Fantômes : La Menace de glace"
   ]
  },
  {
   "cell_type": "code",
   "execution_count": 7,
   "metadata": {},
   "outputs": [
    {
     "name": "stdout",
     "output_type": "stream",
     "text": [
      "Prédiction du nombre d'entrées pour la première semaine : 589067.274606189\n"
     ]
    }
   ],
   "source": [
    "inputs = pd.DataFrame({\n",
    "    'budget': [100000000],\n",
    "    'franchise': ['1'],\n",
    "    'genre': ['Fantasy'],\n",
    "    'remake': ['0'],\n",
    "    'studio': ['Sony Pictures'],\n",
    "    'is_compositeur': ['0'],\n",
    "    'annee': ['2024'],\n",
    "    'origine': ['Etats-Unis'],\n",
    "})\n",
    "\n",
    "result = model.predict(inputs)\n",
    "\n",
    "print(\"Prédiction du nombre d'entrées pour la première semaine :\", result[0])"
   ]
  }
 ],
 "metadata": {
  "kernelspec": {
   "display_name": ".venv",
   "language": "python",
   "name": "python3"
  },
  "language_info": {
   "codemirror_mode": {
    "name": "ipython",
    "version": 3
   },
   "file_extension": ".py",
   "mimetype": "text/x-python",
   "name": "python",
   "nbconvert_exporter": "python",
   "pygments_lexer": "ipython3",
   "version": "3.10.12"
  }
 },
 "nbformat": 4,
 "nbformat_minor": 2
}
