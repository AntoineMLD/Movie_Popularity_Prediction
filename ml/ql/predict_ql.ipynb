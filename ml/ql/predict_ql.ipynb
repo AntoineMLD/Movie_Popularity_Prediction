{
 "cells": [
  {
   "cell_type": "code",
   "execution_count": 29,
   "metadata": {},
   "outputs": [],
   "source": [
    "import numpy as np\n",
    "import pandas as pd\n",
    "import pickle\n",
    "\n",
    "from sklearn.compose import ColumnTransformer\n",
    "from sklearn.linear_model import Lasso, LinearRegression\n",
    "from sklearn.metrics import mean_absolute_error, mean_squared_error, r2_score\n",
    "from sklearn.model_selection import train_test_split\n",
    "from sklearn.pipeline import make_pipeline, Pipeline\n",
    "from sklearn.preprocessing import OrdinalEncoder, OneHotEncoder, StandardScaler\n",
    "\n",
    "from feature_engine.encoding import CountFrequencyEncoder\n",
    "from feature_engine.selection import DropFeatures\n",
    "\n",
    "from catboost import CatBoostRegressor"
   ]
  },
  {
   "cell_type": "markdown",
   "metadata": {},
   "source": [
    "# Prédictions avec le modèle catb"
   ]
  },
  {
   "cell_type": "code",
   "execution_count": 30,
   "metadata": {},
   "outputs": [],
   "source": [
    "with open(\"../models/model_cb.pkl\", \"rb\") as f:\n",
    "    model = pickle.load(f)\n",
    "f.close()"
   ]
  },
  {
   "cell_type": "markdown",
   "metadata": {},
   "source": [
    "## Prédictions sur d'anciennes sorties"
   ]
  },
  {
   "cell_type": "markdown",
   "metadata": {},
   "source": [
    "### Intouchables\n",
    "- Prédiction au 09/04 du nombre d'entrées pour la première semaine : 427745.01087895344\n",
    "- Nombre d'entrées réelles : 2 126 545"
   ]
  },
  {
   "cell_type": "code",
   "execution_count": 31,
   "metadata": {},
   "outputs": [
    {
     "name": "stdout",
     "output_type": "stream",
     "text": [
      "Prédiction du nombre d'entrées pour la première semaine : 583093.2706166679\n",
      "Nombre d'entrées réelles : 2 126 545\n"
     ]
    },
    {
     "name": "stderr",
     "output_type": "stream",
     "text": [
      "/Users/cyriljulliard/simplon/Movie_Popularity_Prediction/env/lib/python3.10/site-packages/feature_engine/encoding/base_encoder.py:260: UserWarning: During the encoding, NaN values were introduced in the feature(s) genres, pegi_fr, studio, origine.\n",
      "  warnings.warn(\n"
     ]
    }
   ],
   "source": [
    "inputs = pd.DataFrame({\n",
    "    'budget': [9611412],\n",
    "    'duree' : [112],\n",
    "    'franchise': ['0'],\n",
    "    'genres': ['Comédie'],\n",
    "    'pegi_fr' : ['Tous public'],\n",
    "    'pegi_usa' : ['R'],\n",
    "    'entrees_usa' : [103507],\n",
    "    'salles_fr' : [508],\n",
    "    'studio': ['Gaumont'],\n",
    "    'is_compositeur': ['0'],\n",
    "    'annee': ['2011'],\n",
    "    'origine': ['France']\n",
    "})\n",
    "\n",
    "result = model.predict(inputs)\n",
    "\n",
    "print(\"Prédiction du nombre d'entrées pour la première semaine :\", result[0])\n",
    "print(\"Nombre d'entrées réelles :\", \"2 126 545\")\n"
   ]
  },
  {
   "cell_type": "markdown",
   "metadata": {},
   "source": [
    "### Iron Man 3\n",
    "- Prédiction au 09/04 du nombre d'entrées pour la première semaine : 1321309.1952236528\n",
    "- Nombre d'entrées réelles : 2 064 740"
   ]
  },
  {
   "cell_type": "code",
   "execution_count": 32,
   "metadata": {},
   "outputs": [
    {
     "name": "stdout",
     "output_type": "stream",
     "text": [
      "Prédiction du nombre d'entrées pour la première semaine : 1503728.9119381884\n",
      "Nombre d'entrées réelles : 2 064 740\n"
     ]
    },
    {
     "name": "stderr",
     "output_type": "stream",
     "text": [
      "/Users/cyriljulliard/simplon/Movie_Popularity_Prediction/env/lib/python3.10/site-packages/feature_engine/encoding/base_encoder.py:260: UserWarning: During the encoding, NaN values were introduced in the feature(s) genres, pegi_fr, pegi_usa, studio.\n",
      "  warnings.warn(\n"
     ]
    }
   ],
   "source": [
    "inputs = pd.DataFrame({\n",
    "    'budget': [200000000],\n",
    "    'duree' : [130],\n",
    "    'franchise': ['1'],\n",
    "    'genres': ['Comicbook'],\n",
    "    'pegi_fr' : ['Tous publics'],\n",
    "    'pegi_usa' : ['PG-13'],\n",
    "    'entrees_usa' : [174144585],\n",
    "    'salles_fr' : [740],\n",
    "    'studio': ['Walt Disney Pictures'],\n",
    "    'is_compositeur': ['0'],\n",
    "    'annee': ['2013'],\n",
    "    'origine': ['etats-unis']\n",
    "})\n",
    "\n",
    "result = model.predict(inputs)\n",
    "\n",
    "print(\"Prédiction du nombre d'entrées pour la première semaine :\", result[0])\n",
    "print(\"Nombre d'entrées réelles :\", \"2 064 740\")\n",
    "# 1503728.9119381884"
   ]
  },
  {
   "cell_type": "markdown",
   "metadata": {},
   "source": [
    "### Dune : Deuxième Partie\n",
    "- Prédiction au 09/04 du nombre d'entrées pour la première semaine : 1105943.8533700795\n",
    "- Nombre d'entrées réelles : 1 383 999"
   ]
  },
  {
   "cell_type": "code",
   "execution_count": 33,
   "metadata": {},
   "outputs": [
    {
     "name": "stdout",
     "output_type": "stream",
     "text": [
      "Prédiction du nombre d'entrées pour la première semaine : 1160805.768966211\n",
      "Nombre d'entrées réelles : 1 383 999\n"
     ]
    },
    {
     "name": "stderr",
     "output_type": "stream",
     "text": [
      "/Users/cyriljulliard/simplon/Movie_Popularity_Prediction/env/lib/python3.10/site-packages/feature_engine/encoding/base_encoder.py:260: UserWarning: During the encoding, NaN values were introduced in the feature(s) genres, pegi_fr, pegi_usa, studio.\n",
      "  warnings.warn(\n"
     ]
    }
   ],
   "source": [
    "inputs = pd.DataFrame({\n",
    "    'budget': [190000000],\n",
    "    'duree' : [166],\n",
    "    'franchise': ['0'],\n",
    "    'genres': ['Science Fiction'],\n",
    "    'pegi_fr' : ['Tous publics'],\n",
    "    'pegi_usa' : ['PG-13'],\n",
    "    'entrees_usa' : [82505391],\n",
    "    'salles_fr' : [994],\n",
    "    'studio': ['Warner Bros.'],\n",
    "    'is_compositeur': ['1'],\n",
    "    'annee': ['2024'],\n",
    "    'origine': ['etats-unis']\n",
    "})\n",
    "\n",
    "result = model.predict(inputs)\n",
    "\n",
    "print(\"Prédiction du nombre d'entrées pour la première semaine :\", result[0])\n",
    "print(\"Nombre d'entrées réelles :\", \"1 383 999\")\n",
    "# 1160805.768966211"
   ]
  },
  {
   "cell_type": "markdown",
   "metadata": {},
   "source": [
    "## Prédictions sur les nouvelles sorties"
   ]
  },
  {
   "cell_type": "markdown",
   "metadata": {},
   "source": [
    "### Nous, les Leroy\n",
    "- Prédiction au 09/04 du nombre d'entrées pour la première semaine : 148 272\n",
    "- premier week-end : 155 439\n"
   ]
  },
  {
   "cell_type": "code",
   "execution_count": 34,
   "metadata": {},
   "outputs": [
    {
     "name": "stdout",
     "output_type": "stream",
     "text": [
      "Prédiction du nombre d'entrées pour la première semaine : 251868.39100035562\n"
     ]
    },
    {
     "name": "stderr",
     "output_type": "stream",
     "text": [
      "/Users/cyriljulliard/simplon/Movie_Popularity_Prediction/env/lib/python3.10/site-packages/feature_engine/encoding/base_encoder.py:260: UserWarning: During the encoding, NaN values were introduced in the feature(s) genres, pegi_fr, studio.\n",
      "  warnings.warn(\n"
     ]
    }
   ],
   "source": [
    "inputs = pd.DataFrame({\n",
    "    'budget': [4600000],\n",
    "    'duree' : [166],\n",
    "    'franchise': ['0'],\n",
    "    'genres': ['Comédie'],\n",
    "    'pegi_fr' : ['Tous publics'],\n",
    "    'pegi_usa' : ['-1'],\n",
    "    'entrees_usa' : [-1],\n",
    "    'salles_fr' : [414],\n",
    "    'studio': ['Apollo Films'],\n",
    "    'is_compositeur': ['0'],\n",
    "    'annee': ['2024'],\n",
    "    'origine': ['france']\n",
    "})\n",
    "\n",
    "result = model.predict(inputs)\n",
    "\n",
    "print(\"Prédiction du nombre d'entrées pour la première semaine :\", result[0])\n",
    "# 251868.39100035562 "
   ]
  },
  {
   "cell_type": "markdown",
   "metadata": {},
   "source": [
    "### S.O.S. Fantômes : La Menace de glace\n",
    "- Prédiction au 09/04 du nombre d'entrées pour la première semaine : 589 067\n",
    "- premier week-end : 248 128"
   ]
  },
  {
   "cell_type": "code",
   "execution_count": 35,
   "metadata": {},
   "outputs": [
    {
     "name": "stdout",
     "output_type": "stream",
     "text": [
      "Prédiction du nombre d'entrées pour la première semaine : 477714.72832720366\n"
     ]
    },
    {
     "name": "stderr",
     "output_type": "stream",
     "text": [
      "/Users/cyriljulliard/simplon/Movie_Popularity_Prediction/env/lib/python3.10/site-packages/feature_engine/encoding/base_encoder.py:260: UserWarning: During the encoding, NaN values were introduced in the feature(s) genres, pegi_fr, pegi_usa, studio.\n",
      "  warnings.warn(\n"
     ]
    }
   ],
   "source": [
    "inputs = pd.DataFrame({\n",
    "    'budget': [100000000],\n",
    "    'duree' : [116],\n",
    "    'franchise': ['1'],\n",
    "    'genres': ['Fantasy'],\n",
    "    'pegi_fr' : ['Tous publics'],\n",
    "    'pegi_usa' : ['PG-13'],\n",
    "    'entrees_usa' : [45004673],\n",
    "    'salles_fr' : [670],\n",
    "    'studio': ['Sony Pictures'],\n",
    "    'is_compositeur': ['0'],\n",
    "    'annee': ['2024'],\n",
    "    'origine': ['etats-unis']\n",
    "})\n",
    "\n",
    "result = model.predict(inputs)\n",
    "\n",
    "print(\"Prédiction du nombre d'entrées pour la première semaine :\", result[0])\n",
    "# 477714.72832720366"
   ]
  }
 ],
 "metadata": {
  "kernelspec": {
   "display_name": ".venv",
   "language": "python",
   "name": "python3"
  },
  "language_info": {
   "codemirror_mode": {
    "name": "ipython",
    "version": 3
   },
   "file_extension": ".py",
   "mimetype": "text/x-python",
   "name": "python",
   "nbconvert_exporter": "python",
   "pygments_lexer": "ipython3",
   "version": "3.10.13"
  }
 },
 "nbformat": 4,
 "nbformat_minor": 2
}
