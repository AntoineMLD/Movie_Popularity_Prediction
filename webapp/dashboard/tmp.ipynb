{
 "cells": [
  {
   "cell_type": "code",
   "execution_count": 32,
   "metadata": {},
   "outputs": [],
   "source": [
    "import os\n",
    "from datetime import datetime, timedelta\n",
    "\n",
    "import mysql.connector"
   ]
  },
  {
   "cell_type": "code",
   "execution_count": 59,
   "metadata": {},
   "outputs": [],
   "source": [
    "date_prochaine_sorties = \"2024-04-24\"\n",
    "# date_prochaine_sorties = datetime.strptime(date_prochaine_sorties, '%Y-%m-%d')\n",
    "# date_prochaine_sorties = date_prochaine_sorties.strftime('%Y-%m-%d')"
   ]
  },
  {
   "cell_type": "code",
   "execution_count": 60,
   "metadata": {},
   "outputs": [],
   "source": [
    "def update_release_date():\n",
    "\n",
    "    global date_prochaine_sorties\n",
    "    \n",
    "    date_prochaine_sorties = datetime.strptime(date_prochaine_sorties, '%Y-%m-%d')\n",
    "    date_prochaine_sorties = date_prochaine_sorties.strftime('%Y-%m-%d')\n",
    "    date_prochaine_sorties = date_prochaine_sorties + timedelta(days=7)"
   ]
  },
  {
   "cell_type": "code",
   "execution_count": 61,
   "metadata": {},
   "outputs": [
    {
     "ename": "TypeError",
     "evalue": "can only concatenate str (not \"datetime.timedelta\") to str",
     "output_type": "error",
     "traceback": [
      "\u001b[0;31m---------------------------------------------------------------------------\u001b[0m",
      "\u001b[0;31mTypeError\u001b[0m                                 Traceback (most recent call last)",
      "Cell \u001b[0;32mIn[61], line 1\u001b[0m\n\u001b[0;32m----> 1\u001b[0m \u001b[43mupdate_release_date\u001b[49m\u001b[43m(\u001b[49m\u001b[43m)\u001b[49m\n\u001b[1;32m      3\u001b[0m \u001b[38;5;28mprint\u001b[39m(date_prochaine_sorties)\n",
      "Cell \u001b[0;32mIn[60], line 7\u001b[0m, in \u001b[0;36mupdate_release_date\u001b[0;34m()\u001b[0m\n\u001b[1;32m      5\u001b[0m date_prochaine_sorties \u001b[38;5;241m=\u001b[39m datetime\u001b[38;5;241m.\u001b[39mstrptime(date_prochaine_sorties, \u001b[38;5;124m'\u001b[39m\u001b[38;5;124m%\u001b[39m\u001b[38;5;124mY-\u001b[39m\u001b[38;5;124m%\u001b[39m\u001b[38;5;124mm-\u001b[39m\u001b[38;5;132;01m%d\u001b[39;00m\u001b[38;5;124m'\u001b[39m)\n\u001b[1;32m      6\u001b[0m date_prochaine_sorties \u001b[38;5;241m=\u001b[39m date_prochaine_sorties\u001b[38;5;241m.\u001b[39mstrftime(\u001b[38;5;124m'\u001b[39m\u001b[38;5;124m%\u001b[39m\u001b[38;5;124mY-\u001b[39m\u001b[38;5;124m%\u001b[39m\u001b[38;5;124mm-\u001b[39m\u001b[38;5;132;01m%d\u001b[39;00m\u001b[38;5;124m'\u001b[39m)\n\u001b[0;32m----> 7\u001b[0m date_prochaine_sorties \u001b[38;5;241m=\u001b[39m \u001b[43mdate_prochaine_sorties\u001b[49m\u001b[43m \u001b[49m\u001b[38;5;241;43m+\u001b[39;49m\u001b[43m \u001b[49m\u001b[43mtimedelta\u001b[49m\u001b[43m(\u001b[49m\u001b[43mdays\u001b[49m\u001b[38;5;241;43m=\u001b[39;49m\u001b[38;5;241;43m7\u001b[39;49m\u001b[43m)\u001b[49m\n",
      "\u001b[0;31mTypeError\u001b[0m: can only concatenate str (not \"datetime.timedelta\") to str"
     ]
    }
   ],
   "source": [
    "update_release_date()\n",
    "\n",
    "print(date_prochaine_sorties)"
   ]
  },
  {
   "cell_type": "code",
   "execution_count": 34,
   "metadata": {},
   "outputs": [],
   "source": [
    "conn = mysql.connector.connect(\n",
    "host = \"casq.mysql.database.azure.com\",\n",
    "user = \"tenshi\",\n",
    "password = \"Simplon59\",\n",
    "database = \"db_movies\"\n",
    ")\n",
    "cur = conn.cursor()"
   ]
  },
  {
   "cell_type": "code",
   "execution_count": 35,
   "metadata": {},
   "outputs": [],
   "source": [
    "query = \"\"\"\n",
    "    SELECT * FROM predict_films \n",
    "    WHERE semaine_fr = %s\n",
    "    \"\"\"\n",
    "\n",
    "args = (date_prochaine_sorties,)\n",
    "\n",
    "cur.execute(query, args)\n",
    "result = cur.fetchall()"
   ]
  },
  {
   "cell_type": "code",
   "execution_count": 36,
   "metadata": {},
   "outputs": [
    {
     "name": "stdout",
     "output_type": "stream",
     "text": [
      "['id', 'titre', 'acteurs', 'budget', 'compositeur', 'semaine_fr', 'semaine_usa', 'duree', 'franchise', 'genres', 'pays', 'pegi_fr', 'pegi_usa', 'producteur', 'realisateur', 'entrees_usa', 'salles_fr', 'studio', 'synopsis', 'estimation', 'images', 'entrees_fr']\n"
     ]
    }
   ],
   "source": [
    "columns = [desc[0] for desc in cur.description]\n",
    "\n",
    "print(columns)"
   ]
  },
  {
   "cell_type": "code",
   "execution_count": 37,
   "metadata": {},
   "outputs": [
    {
     "name": "stdout",
     "output_type": "stream",
     "text": [
      "n'avoue jamais\n",
      "notre monde\n",
      "citadel\n",
      "que notre joie demeure\n",
      "indivision\n",
      "challengers\n",
      "les vieux\n",
      "marilú\n",
      "le déserteur\n",
      "un jeune chaman\n",
      "première affaire\n",
      "le mangeur d'âmes\n",
      "back to black\n",
      "drift\n",
      "bushman\n"
     ]
    }
   ],
   "source": [
    "for row in result:\n",
    "    print(row[columns.index(\"titre\")])"
   ]
  },
  {
   "cell_type": "code",
   "execution_count": 39,
   "metadata": {},
   "outputs": [],
   "source": [
    "films = []\n",
    "for row in result:\n",
    "    \n",
    "    film = {\n",
    "        'titre': row[columns.index('titre')],\n",
    "        'estimation': row[columns.index('estimation')],\n",
    "        'entrees_fr': row[columns.index('entrees_fr')],\n",
    "        'entrees_usa': row[columns.index('entrees_usa')],\n",
    "        'budget': row[columns.index('budget')],\n",
    "        'salles_fr': row[columns.index('salles_fr')],\n",
    "        'semaine_fr': row[columns.index('semaine_fr')],\n",
    "        'semaine_usa': row[columns.index('semaine_usa')],\n",
    "        'duree': row[columns.index('duree')],\n",
    "        'pegi_fr': row[columns.index('pegi_fr')],\n",
    "        'pegi_usa': row[columns.index('pegi_usa')],\n",
    "        'franchise': row[columns.index('franchise')],\n",
    "        'genres': row[columns.index('genres')],\n",
    "        'pays': row[columns.index('pays')],\n",
    "        'synopsis': row[columns.index('synopsis')],\n",
    "        'image_url': row[columns.index('images')],\n",
    "        'acteurs': row[columns.index('acteurs')],\n",
    "        'producteur': row[columns.index('producteur')],\n",
    "        'realisateur': row[columns.index('realisateur')],\n",
    "        'compositeur': row[columns.index('compositeur')],\n",
    "        'studio': row[columns.index('studio')]\n",
    "    }\n",
    "\n",
    "    films.append(film)"
   ]
  },
  {
   "cell_type": "code",
   "execution_count": 41,
   "metadata": {},
   "outputs": [
    {
     "name": "stdout",
     "output_type": "stream",
     "text": [
      "{'titre': \"n'avoue jamais\", 'estimation': 75936, 'entrees_fr': None, 'entrees_usa': None, 'budget': None, 'salles_fr': None, 'semaine_fr': datetime.date(2024, 4, 24), 'semaine_usa': None, 'duree': 94, 'pegi_fr': None, 'pegi_usa': None, 'franchise': None, 'genres': None, 'pays': 'france', 'synopsis': None, 'image_url': None, 'acteurs': 'andré dussollier, thierry lhermitte, sabine azéma, sébastien chassagne, joséphine de meaux, gaël giraudeau, michel boujenah, céline esperin', 'producteur': 'ivan calbérac', 'realisateur': None, 'compositeur': None, 'studio': None}\n"
     ]
    }
   ],
   "source": [
    "print(films[0])"
   ]
  }
 ],
 "metadata": {
  "kernelspec": {
   "display_name": ".venv",
   "language": "python",
   "name": "python3"
  },
  "language_info": {
   "codemirror_mode": {
    "name": "ipython",
    "version": 3
   },
   "file_extension": ".py",
   "mimetype": "text/x-python",
   "name": "python",
   "nbconvert_exporter": "python",
   "pygments_lexer": "ipython3",
   "version": "3.10.12"
  }
 },
 "nbformat": 4,
 "nbformat_minor": 2
}
